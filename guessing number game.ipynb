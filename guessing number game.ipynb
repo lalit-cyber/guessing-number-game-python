{
 "cells": [
  {
   "cell_type": "code",
   "execution_count": 14,
   "metadata": {},
   "outputs": [],
   "source": [
    "import random"
   ]
  },
  {
   "cell_type": "code",
   "execution_count": 15,
   "metadata": {},
   "outputs": [],
   "source": [
    "number = random.randint(1,100)"
   ]
  },
  {
   "cell_type": "code",
   "execution_count": 1,
   "metadata": {},
   "outputs": [],
   "source": [
    "import random\n",
    "number = random.randint(1,100)"
   ]
  },
  {
   "cell_type": "code",
   "execution_count": null,
   "metadata": {},
   "outputs": [],
   "source": [
    "guess_list = [0]\n",
    "while True:\n",
    "    guess = int(input(\"Enter your number between 1, 100:\"))\n",
    "    if guess <1 or guess >100:\n",
    "        print(\"Wrong Selection,try again:\")\n",
    "        continue\n",
    "    \n",
    "    if number == guess:\n",
    "        print(f\"Congratulations You have guess in {len(guess_list)} chances.\")\n",
    "        break\n",
    "        \n",
    "    guess_list.append(guess)\n",
    "    if guess_list[-2]:    \n",
    "        if abs(guess-number) < abs(guess-guess_list[-2]):\n",
    "            print(\"getting closer with 10\")\n",
    "        else:\n",
    "            print(\"getting farther with 10\")\n",
    "\n",
    "    else:\n",
    "        if abs(guess-number) <= 10:\n",
    "            print(\"near to the number\")\n",
    "        else:\n",
    "            print(\"far to the number\")\n",
    "        "
   ]
  }
 ],
 "metadata": {
  "kernelspec": {
   "display_name": "Python 3",
   "language": "python",
   "name": "python3"
  },
  "language_info": {
   "codemirror_mode": {
    "name": "ipython",
    "version": 3
   },
   "file_extension": ".py",
   "mimetype": "text/x-python",
   "name": "python",
   "nbconvert_exporter": "python",
   "pygments_lexer": "ipython3",
   "version": "3.7.6"
  }
 },
 "nbformat": 4,
 "nbformat_minor": 4
}
